{
 "cells": [
  {
   "cell_type": "code",
   "execution_count": 14,
   "metadata": {},
   "outputs": [
    {
     "name": "stdout",
     "output_type": "stream",
     "text": [
      "Verbindung zur MySQL-Datenbank erfolgreich\n",
      "Der Fehler '1007 (HY000): Can't create database 'meineNeueDatenbank'; database exists' ist aufgetreten\n"
     ]
    }
   ],
   "source": [
    "import mysql.connector\n",
    "from mysql.connector import Error\n",
    "\n",
    "def create_connection(host_name, user_name, user_password, port_number):\n",
    "    connection = None\n",
    "    try:\n",
    "        connection = mysql.connector.connect(\n",
    "            host=host_name,\n",
    "            user=user_name,\n",
    "            passwd=user_password,\n",
    "            port=port_number\n",
    "        )\n",
    "        print(\"Verbindung zur MySQL-Datenbank erfolgreich\")\n",
    "    except Error as e:\n",
    "        print(f\"Der Fehler '{e}' ist aufgetreten\")\n",
    "\n",
    "    return connection\n",
    "\n",
    "def create_database(connection, query):\n",
    "    cursor = connection.cursor()\n",
    "    try:\n",
    "        cursor.execute(query)\n",
    "        print(\"Datenbank wurde erfolgreich erstellt\")\n",
    "    except Error as e:\n",
    "        print(f\"Der Fehler '{e}' ist aufgetreten\")\n",
    "\n",
    "# Verbindungsinformationen - ersetzen Sie diese mit Ihren eigenen Daten\n",
    "host = \"46.38.243.223\"  # Die IP-Adresse Ihres Servers\n",
    "port = 3309            # Der Port Ihres MySQL-Servers\n",
    "user = \"root\"\n",
    "password = \"admin123\"\n",
    "\n",
    "# Verbindung herstellen\n",
    "connection = create_connection(host, user, password, port)\n",
    "\n",
    "# Datenbank erstellen\n",
    "if connection and connection.is_connected():\n",
    "    create_database_query = \"CREATE DATABASE meineNeueDatenbank\"\n",
    "    create_database(connection, create_database_query)\n",
    "\n",
    "    # Denken Sie daran, die Verbindung am Ende zu schließen\n",
    "    connection.close()\n"
   ]
  },
  {
   "cell_type": "code",
   "execution_count": null,
   "metadata": {},
   "outputs": [],
   "source": []
  }
 ],
 "metadata": {
  "kernelspec": {
   "display_name": "Python 3",
   "language": "python",
   "name": "python3"
  },
  "language_info": {
   "codemirror_mode": {
    "name": "ipython",
    "version": 3
   },
   "file_extension": ".py",
   "mimetype": "text/x-python",
   "name": "python",
   "nbconvert_exporter": "python",
   "pygments_lexer": "ipython3",
   "version": "3.10.8"
  }
 },
 "nbformat": 4,
 "nbformat_minor": 2
}
